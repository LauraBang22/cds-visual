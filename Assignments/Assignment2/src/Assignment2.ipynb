{
 "cells": [
  {
   "cell_type": "markdown",
   "metadata": {},
   "source": [
    "# Neural network"
   ]
  },
  {
   "cell_type": "code",
   "execution_count": 6,
   "metadata": {},
   "outputs": [],
   "source": [
    "import os\n",
    "import sys\n",
    "sys.path.append(\"..\")\n",
    "import cv2\n",
    "\n",
    "# Import teaching utils\n",
    "import numpy as np\n",
    "from imutils import jimshow as show \n",
    "from imutils import jimshow_channel as show_channel\n",
    "\n",
    "# Import sklearn metrics\n",
    "from sklearn import metrics\n",
    "from sklearn.datasets import fetch_openml\n",
    "from sklearn.model_selection import train_test_split\n",
    "from sklearn.linear_model import LogisticRegression\n",
    "from sklearn.metrics import accuracy_score\n",
    "from sklearn.model_selection import train_test_split, ShuffleSplit\n",
    "from sklearn.feature_extraction.text import CountVectorizer, TfidfVectorizer\n",
    "from sklearn.linear_model import LogisticRegression\n",
    "from sklearn.neural_network import MLPClassifier\n",
    "from sklearn import metrics\n",
    "\n",
    "import matplotlib.pyplot as plt\n",
    "\n",
    "# Import dataset\n",
    "from tensorflow.keras.datasets import cifar10"
   ]
  },
  {
   "cell_type": "code",
   "execution_count": 7,
   "metadata": {},
   "outputs": [
    {
     "name": "stdout",
     "output_type": "stream",
     "text": [
      "Downloading data from https://www.cs.toronto.edu/~kriz/cifar-10-python.tar.gz\n",
      "170498071/170498071 [==============================] - 8s 0us/step\n"
     ]
    }
   ],
   "source": [
    "#load data\n",
    "(X_train, y_train), (X_test, y_test) = cifar10.load_data()"
   ]
  },
  {
   "cell_type": "code",
   "execution_count": 8,
   "metadata": {},
   "outputs": [],
   "source": [
    "X_list_train = []\n",
    "\n",
    "for image in X_train:\n",
    "    X_grey = cv2.cvtColor(image, cv2.COLOR_BGR2GRAY)\n",
    "    X_normalized = X_grey/255\n",
    "    X_list_train.append(X_normalized)\n",
    "\n",
    "X_train_final = np.array(X_list).reshape(-1, 1024)"
   ]
  },
  {
   "cell_type": "code",
   "execution_count": 9,
   "metadata": {},
   "outputs": [],
   "source": [
    "X_list_test = []\n",
    "\n",
    "for image in X_test:\n",
    "    X_grey = cv2.cvtColor(image, cv2.COLOR_BGR2GRAY)\n",
    "    X_normalized = X_grey/255\n",
    "    X_list_test.append(X_normalized)\n",
    "\n",
    "X_test_final = np.array(X_list).reshape(-1, 1024)"
   ]
  },
  {
   "cell_type": "code",
   "execution_count": 10,
   "metadata": {},
   "outputs": [
    {
     "data": {
      "text/plain": [
       "(50000, 1024)"
      ]
     },
     "execution_count": 10,
     "metadata": {},
     "output_type": "execute_result"
    }
   ],
   "source": [
    "X_train_final.shape"
   ]
  },
  {
   "cell_type": "code",
   "execution_count": 11,
   "metadata": {},
   "outputs": [
    {
     "name": "stderr",
     "output_type": "stream",
     "text": [
      "/home/ucloud/.local/lib/python3.10/site-packages/sklearn/utils/validation.py:1300: DataConversionWarning: A column-vector y was passed when a 1d array was expected. Please change the shape of y to (n_samples, ), for example using ravel().\n",
      "  y = column_or_1d(y, warn=True)\n"
     ]
    }
   ],
   "source": [
    "p"
   ]
  },
  {
   "cell_type": "code",
   "execution_count": 12,
   "metadata": {},
   "outputs": [
    {
     "name": "stderr",
     "output_type": "stream",
     "text": [
      "/home/ucloud/.local/lib/python3.10/site-packages/sklearn/neural_network/_multilayer_perceptron.py:1101: DataConversionWarning: A column-vector y was passed when a 1d array was expected. Please change the shape of y to (n_samples, ), for example using ravel().\n",
      "  y = column_or_1d(y, warn=True)\n"
     ]
    }
   ],
   "source": [
    "classifierMLP = MLPClassifier(activation = \"logistic\",\n",
    "                           hidden_layer_sizes = (2,),\n",
    "                           max_iter=1000,\n",
    "                           random_state = 42).fit(X_train_final, y_train)"
   ]
  },
  {
   "cell_type": "code",
   "execution_count": 13,
   "metadata": {},
   "outputs": [],
   "source": [
    "labels = [\"airplane\", \"automobile\", \"bird\", \"cat\", \"deer\", \"dog\", \"frog\", \"horse\", \"ship\", \"truck\"]"
   ]
  },
  {
   "cell_type": "code",
   "execution_count": 14,
   "metadata": {},
   "outputs": [],
   "source": [
    "y_pred = classifierLogistic.predict(X_test_final)"
   ]
  },
  {
   "cell_type": "code",
   "execution_count": 15,
   "metadata": {},
   "outputs": [],
   "source": [
    "y_pred = classifierMLP.predict(X_test_final)"
   ]
  },
  {
   "cell_type": "code",
   "execution_count": 17,
   "metadata": {},
   "outputs": [
    {
     "name": "stdout",
     "output_type": "stream",
     "text": [
      "              precision    recall  f1-score   support\n",
      "\n",
      "    airplane       0.25      0.43      0.32      1000\n",
      "  automobile       0.30      0.36      0.33      1000\n",
      "        bird       0.16      0.13      0.15      1000\n",
      "         cat       0.16      0.02      0.03      1000\n",
      "        deer       0.18      0.24      0.21      1000\n",
      "         dog       0.15      0.08      0.10      1000\n",
      "        frog       0.21      0.40      0.28      1000\n",
      "       horse       0.13      0.04      0.06      1000\n",
      "        ship       0.31      0.29      0.30      1000\n",
      "       truck       0.34      0.40      0.37      1000\n",
      "\n",
      "    accuracy                           0.24     10000\n",
      "   macro avg       0.22      0.24      0.21     10000\n",
      "weighted avg       0.22      0.24      0.21     10000\n",
      "\n"
     ]
    }
   ],
   "source": [
    "classifier_metrics_MLP = metrics.classification_report(y_test, y_pred, target_names= labels)\n",
    "print(classifier_metrics_MLP)"
   ]
  },
  {
   "cell_type": "code",
   "execution_count": 18,
   "metadata": {},
   "outputs": [
    {
     "name": "stdout",
     "output_type": "stream",
     "text": [
      "              precision    recall  f1-score   support\n",
      "\n",
      "    airplane       0.25      0.43      0.32      1000\n",
      "  automobile       0.30      0.36      0.33      1000\n",
      "        bird       0.16      0.13      0.15      1000\n",
      "         cat       0.16      0.02      0.03      1000\n",
      "        deer       0.18      0.24      0.21      1000\n",
      "         dog       0.15      0.08      0.10      1000\n",
      "        frog       0.21      0.40      0.28      1000\n",
      "       horse       0.13      0.04      0.06      1000\n",
      "        ship       0.31      0.29      0.30      1000\n",
      "       truck       0.34      0.40      0.37      1000\n",
      "\n",
      "    accuracy                           0.24     10000\n",
      "   macro avg       0.22      0.24      0.21     10000\n",
      "weighted avg       0.22      0.24      0.21     10000\n",
      "\n"
     ]
    }
   ],
   "source": [
    "classifier_metrics_logistic = metrics.classification_report(y_test, y_pred, target_names= labels)\n",
    "print(classifier_metrics_logistic)"
   ]
  },
  {
   "cell_type": "code",
   "execution_count": null,
   "metadata": {},
   "outputs": [],
   "source": [
    "text_file = open(\"../out/neuralnetwork.txt\", 'w')\n",
    "text_file.write(classifier_metrics_MLP)\n",
    "text_file.close()\n"
   ]
  },
  {
   "cell_type": "code",
   "execution_count": 19,
   "metadata": {},
   "outputs": [
    {
     "data": {
      "image/png": "[encoded data removed]",
      "text/plain": [
       "<Figure size 640x480 with 1 Axes>"
      ]
     },
     "metadata": {},
     "output_type": "display_data"
    },
    {
     "data": {
      "text/plain": [
       "<Figure size 640x480 with 0 Axes>"
      ]
     },
     "metadata": {},
     "output_type": "display_data"
    }
   ],
   "source": [
    "plt.plot(classifierMLP.loss_curve_)\n",
    "plt.title(\"Loss curve during training\", fontsize=14)\n",
    "plt.xlabel('Iterations')\n",
    "plt.ylabel('Loss score')\n",
    "plt.show()\n",
    "plt.savefig(\"../out/loss_curve.png\")"
   ]
  }
 ],
 "metadata": {
  "kernelspec": {
   "display_name": "Python 3",
   "language": "python",
   "name": "python3"
  },
  "language_info": {
   "codemirror_mode": {
    "name": "ipython",
    "version": 3
   },
   "file_extension": ".py",
   "mimetype": "text/x-python",
   "name": "python",
   "nbconvert_exporter": "python",
   "pygments_lexer": "ipython3",
   "version": "3.10.12"
  }
 },
 "nbformat": 4,
 "nbformat_minor": 2
}
