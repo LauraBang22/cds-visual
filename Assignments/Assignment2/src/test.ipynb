{
 "cells": [
  {
   "cell_type": "code",
   "execution_count": 1,
   "metadata": {},
   "outputs": [
    {
     "name": "stderr",
     "output_type": "stream",
     "text": [
      "2024-03-11 10:31:36.889160: I external/local_tsl/tsl/cuda/cudart_stub.cc:32] Could not find cuda drivers on your machine, GPU will not be used.\n",
      "2024-03-11 10:31:36.893235: I external/local_tsl/tsl/cuda/cudart_stub.cc:32] Could not find cuda drivers on your machine, GPU will not be used.\n",
      "2024-03-11 10:31:36.943855: I tensorflow/core/platform/cpu_feature_guard.cc:210] This TensorFlow binary is optimized to use available CPU instructions in performance-critical operations.\n",
      "To enable the following instructions: AVX2 AVX512F FMA, in other operations, rebuild TensorFlow with the appropriate compiler flags.\n",
      "2024-03-11 10:31:37.818950: W tensorflow/compiler/tf2tensorrt/utils/py_utils.cc:38] TF-TRT Warning: Could not find TensorRT\n"
     ]
    }
   ],
   "source": [
    "import neural_network"
   ]
  },
  {
   "cell_type": "code",
   "execution_count": 2,
   "metadata": {},
   "outputs": [
    {
     "name": "stderr",
     "output_type": "stream",
     "text": [
      "/home/ucloud/.local/lib/python3.10/site-packages/sklearn/neural_network/_multilayer_perceptron.py:1101: DataConversionWarning: A column-vector y was passed when a 1d array was expected. Please change the shape of y to (n_samples, ), for example using ravel().\n",
      "  y = column_or_1d(y, warn=True)\n"
     ]
    },
    {
     "name": "stdout",
     "output_type": "stream",
     "text": [
      "              precision    recall  f1-score   support\n",
      "\n",
      "    airplane       0.25      0.43      0.32      1000\n",
      "  automobile       0.30      0.36      0.33      1000\n",
      "        bird       0.16      0.13      0.15      1000\n",
      "         cat       0.16      0.02      0.03      1000\n",
      "        deer       0.18      0.24      0.21      1000\n",
      "         dog       0.15      0.08      0.10      1000\n",
      "        frog       0.21      0.40      0.28      1000\n",
      "       horse       0.13      0.04      0.06      1000\n",
      "        ship       0.31      0.29      0.30      1000\n",
      "       truck       0.34      0.40      0.37      1000\n",
      "\n",
      "    accuracy                           0.24     10000\n",
      "   macro avg       0.22      0.24      0.21     10000\n",
      "weighted avg       0.22      0.24      0.21     10000\n",
      "\n"
     ]
    },
    {
     "ename": "TypeError",
     "evalue": "write() argument must be str, not tuple",
     "output_type": "error",
     "traceback": [
      "\u001b[0;31m---------------------------------------------------------------------------\u001b[0m",
      "\u001b[0;31mTypeError\u001b[0m                                 Traceback (most recent call last)",
      "\u001b[1;32m/work/LauraBangJensen#2986/cds-visual/cds-visual-git/Assignments/Assignment2/src/test.ipynb Cell 2\u001b[0m line \u001b[0;36m1\n\u001b[0;32m----> <a href='vscode-notebook-cell://app-5025993-0.cloud.sdu.dk/work/LauraBangJensen%232986/cds-visual/cds-visual-git/Assignments/Assignment2/src/test.ipynb#W3sdnNjb2RlLXJlbW90ZQ%3D%3D?line=0'>1</a>\u001b[0m neural_network\u001b[39m.\u001b[39;49mmain()\n",
      "File \u001b[0;32m/work/LauraBangJensen#2986/cds-visual/cds-visual-git/Assignments/Assignment2/src/neural_network.py:81\u001b[0m, in \u001b[0;36mmain\u001b[0;34m()\u001b[0m\n\u001b[1;32m     79\u001b[0m X_test_final, X_train_final \u001b[39m=\u001b[39m reshape_data(X_train, X_test)\n\u001b[1;32m     80\u001b[0m classifier_metrics_neural \u001b[39m=\u001b[39m classifier(X_test_final, X_train_final, y_test, y_train)\n\u001b[0;32m---> 81\u001b[0m file_save(classifier_metrics_neural)\n\u001b[1;32m     82\u001b[0m loss_curve(classifierMLP)\n",
      "File \u001b[0;32m/work/LauraBangJensen#2986/cds-visual/cds-visual-git/Assignments/Assignment2/src/neural_network.py:74\u001b[0m, in \u001b[0;36mfile_save\u001b[0;34m(classifier_metrics_neural)\u001b[0m\n\u001b[1;32m     72\u001b[0m \u001b[39mdef\u001b[39;00m \u001b[39mfile_save\u001b[39m(classifier_metrics_neural):\n\u001b[1;32m     73\u001b[0m     text_file \u001b[39m=\u001b[39m \u001b[39mopen\u001b[39m(\u001b[39m\"\u001b[39m\u001b[39m../out/neural.txt\u001b[39m\u001b[39m\"\u001b[39m, \u001b[39m'\u001b[39m\u001b[39mw\u001b[39m\u001b[39m'\u001b[39m)\n\u001b[0;32m---> 74\u001b[0m     text_file\u001b[39m.\u001b[39;49mwrite(classifier_metrics_neural)\n\u001b[1;32m     75\u001b[0m     text_file\u001b[39m.\u001b[39mclose()\n",
      "\u001b[0;31mTypeError\u001b[0m: write() argument must be str, not tuple"
     ]
    }
   ],
   "source": [
    "neural_network.main()"
   ]
  }
 ],
 "metadata": {
  "kernelspec": {
   "display_name": "Python 3",
   "language": "python",
   "name": "python3"
  },
  "language_info": {
   "codemirror_mode": {
    "name": "ipython",
    "version": 3
   },
   "file_extension": ".py",
   "mimetype": "text/x-python",
   "name": "python",
   "nbconvert_exporter": "python",
   "pygments_lexer": "ipython3",
   "version": "3.10.12"
  }
 },
 "nbformat": 4,
 "nbformat_minor": 2
}
