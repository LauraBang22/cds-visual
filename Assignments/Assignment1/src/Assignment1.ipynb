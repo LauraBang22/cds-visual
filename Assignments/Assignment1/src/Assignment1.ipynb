{
 "cells": [
  {
   "cell_type": "markdown",
   "metadata": {},
   "source": [
    "# Assignment 1- Building a simple image search algorithm"
   ]
  },
  {
   "cell_type": "code",
   "execution_count": 1,
   "metadata": {},
   "outputs": [
    {
     "name": "stderr",
     "output_type": "stream",
     "text": [
      "/tmp/ipykernel_25586/2464324724.py:8: DeprecationWarning: \n",
      "Pyarrow will become a required dependency of pandas in the next major release of pandas (pandas 3.0),\n",
      "(to allow more performant data types, such as the Arrow string type, and better interoperability with other libraries)\n",
      "but was not found to be installed on your system.\n",
      "If this would cause problems for you,\n",
      "please provide us feedback at https://github.com/pandas-dev/pandas/issues/54466\n",
      "        \n",
      "  import pandas as pd\n"
     ]
    }
   ],
   "source": [
    "import os\n",
    "import sys\n",
    "sys.path.append(\"..\")\n",
    "\n",
    "import cv2 #opencv\n",
    "\n",
    "import numpy as np\n",
    "import pandas as pd\n",
    "from imutils import jimshow as show #utility functions\n",
    "from imutils import jimshow_channel as show_channel\n",
    "\n",
    "#plotting\n",
    "import matplotlib.pyplot as plt"
   ]
  },
  {
   "cell_type": "code",
   "execution_count": 3,
   "metadata": {},
   "outputs": [],
   "source": [
    "image = os.path.join(\"..\", \"in\", \"flowers\", \"image_0175.jpg\")"
   ]
  },
  {
   "cell_type": "code",
   "execution_count": 4,
   "metadata": {},
   "outputs": [],
   "source": [
    "main_image = cv2.imread(image)"
   ]
  },
  {
   "cell_type": "code",
   "execution_count": 5,
   "metadata": {},
   "outputs": [],
   "source": [
    "main_hist = cv2.calcHist([main_image], [0,1,2], None, [256,256,256], [0,256, 0,256, 0,256])"
   ]
  },
  {
   "cell_type": "code",
   "execution_count": 6,
   "metadata": {},
   "outputs": [],
   "source": [
    "main_norm_hist = cv2.normalize(main_hist, main_hist, 0, 1.0, cv2.NORM_MINMAX)"
   ]
  },
  {
   "cell_type": "code",
   "execution_count": 14,
   "metadata": {},
   "outputs": [],
   "source": [
    "data_dir = os.path.join(\"..\", \"in\", \"flowers\")\n",
    "sorted_dir = sorted(os.listdir(data_dir))\n",
    "\n",
    "results_list = []\n",
    "# for each individual flower image in the data directory\n",
    "for file_name in sorted_dir:\n",
    "    # creating a filepath for loading the data\n",
    "    file_path = data_dir + \"/\" + file_name\n",
    "    # loading using openCV\n",
    "    ref_image = cv2.imread(file_path)\n",
    "    # extract histogram for reference\n",
    "    ref_hist = cv2.calcHist([ref_image], [0,1,2], None, [256,256,256], [0,256, 0,256, 0,256])\n",
    "    ref_norm_hist = cv2.normalize(ref_hist, ref_hist, 0, 1.0, cv2.NORM_MINMAX)\n",
    "    # compare with hist\n",
    "    distance = round(cv2.compareHist(main_norm_hist, ref_norm_hist, cv2.HISTCMP_CHISQR), 2)\n",
    "    # save results\n",
    "    results_list.append((file_name, distance))\n",
    "    df = pd.DataFrame(results_list, \n",
    "                         columns=[\"file_name\",\"Distance\"])\n",
    "    df_sorted = df.sort_values(by='Distance', ascending=True)\n",
    "\n",
    "    outpath = os.path.join(\"..\", \"out\", \"results_list.csv\")\n",
    "    df.to_csv(outpath, index=False)\n",
    "\n",
    "\n",
    "\n",
    "\n"
   ]
  },
  {
   "cell_type": "code",
   "execution_count": 15,
   "metadata": {},
   "outputs": [
    {
     "data": {
      "text/html": [
       "<div>\n",
       "<style scoped>\n",
       "    .dataframe tbody tr th:only-of-type {\n",
       "        vertical-align: middle;\n",
       "    }\n",
       "\n",
       "    .dataframe tbody tr th {\n",
       "        vertical-align: top;\n",
       "    }\n",
       "\n",
       "    .dataframe thead th {\n",
       "        text-align: right;\n",
       "    }\n",
       "</style>\n",
       "<table border=\"1\" class=\"dataframe\">\n",
       "  <thead>\n",
       "    <tr style=\"text-align: right;\">\n",
       "      <th></th>\n",
       "      <th>file_name</th>\n",
       "      <th>Distance</th>\n",
       "    </tr>\n",
       "  </thead>\n",
       "  <tbody>\n",
       "    <tr>\n",
       "      <th>174</th>\n",
       "      <td>image_0175.jpg</td>\n",
       "      <td>0.00</td>\n",
       "    </tr>\n",
       "    <tr>\n",
       "      <th>244</th>\n",
       "      <td>image_0245.jpg</td>\n",
       "      <td>69.19</td>\n",
       "    </tr>\n",
       "    <tr>\n",
       "      <th>1098</th>\n",
       "      <td>image_1099.jpg</td>\n",
       "      <td>69.70</td>\n",
       "    </tr>\n",
       "    <tr>\n",
       "      <th>723</th>\n",
       "      <td>image_0724.jpg</td>\n",
       "      <td>70.13</td>\n",
       "    </tr>\n",
       "    <tr>\n",
       "      <th>1307</th>\n",
       "      <td>image_1308.jpg</td>\n",
       "      <td>70.30</td>\n",
       "    </tr>\n",
       "    <tr>\n",
       "      <th>...</th>\n",
       "      <td>...</td>\n",
       "      <td>...</td>\n",
       "    </tr>\n",
       "    <tr>\n",
       "      <th>558</th>\n",
       "      <td>image_0559.jpg</td>\n",
       "      <td>1353316.53</td>\n",
       "    </tr>\n",
       "    <tr>\n",
       "      <th>283</th>\n",
       "      <td>image_0284.jpg</td>\n",
       "      <td>1381747.88</td>\n",
       "    </tr>\n",
       "    <tr>\n",
       "      <th>289</th>\n",
       "      <td>image_0290.jpg</td>\n",
       "      <td>1463395.96</td>\n",
       "    </tr>\n",
       "    <tr>\n",
       "      <th>537</th>\n",
       "      <td>image_0538.jpg</td>\n",
       "      <td>1699629.68</td>\n",
       "    </tr>\n",
       "    <tr>\n",
       "      <th>288</th>\n",
       "      <td>image_0289.jpg</td>\n",
       "      <td>1832079.10</td>\n",
       "    </tr>\n",
       "  </tbody>\n",
       "</table>\n",
       "<p>1360 rows × 2 columns</p>\n",
       "</div>"
      ],
      "text/plain": [
       "           file_name    Distance\n",
       "174   image_0175.jpg        0.00\n",
       "244   image_0245.jpg       69.19\n",
       "1098  image_1099.jpg       69.70\n",
       "723   image_0724.jpg       70.13\n",
       "1307  image_1308.jpg       70.30\n",
       "...              ...         ...\n",
       "558   image_0559.jpg  1353316.53\n",
       "283   image_0284.jpg  1381747.88\n",
       "289   image_0290.jpg  1463395.96\n",
       "537   image_0538.jpg  1699629.68\n",
       "288   image_0289.jpg  1832079.10\n",
       "\n",
       "[1360 rows x 2 columns]"
      ]
     },
     "execution_count": 15,
     "metadata": {},
     "output_type": "execute_result"
    }
   ],
   "source": [
    "df_sorted"
   ]
  }
 ],
 "metadata": {
  "kernelspec": {
   "display_name": "Python 3",
   "language": "python",
   "name": "python3"
  },
  "language_info": {
   "codemirror_mode": {
    "name": "ipython",
    "version": 3
   },
   "file_extension": ".py",
   "mimetype": "text/x-python",
   "name": "python",
   "nbconvert_exporter": "python",
   "pygments_lexer": "ipython3",
   "version": "3.10.12"
  }
 },
 "nbformat": 4,
 "nbformat_minor": 2
}
