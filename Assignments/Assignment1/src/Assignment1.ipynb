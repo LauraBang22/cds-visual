{
 "cells": [
  {
   "cell_type": "markdown",
   "metadata": {},
   "source": [
    "# Assignment 1- Building a simple image search algorithm"
   ]
  },
  {
   "cell_type": "markdown",
   "metadata": {},
   "source": [
    "First I import the relevant packages"
   ]
  },
  {
   "cell_type": "code",
   "execution_count": 1,
   "metadata": {},
   "outputs": [],
   "source": [
    "import os\n",
    "import sys\n",
    "sys.path.append(\"..\")\n",
    "\n",
    "import cv2 #opencv\n",
    "\n",
    "import numpy as np\n",
    "import pandas as pd\n",
    "from imutils import jimshow as show #utility functions\n",
    "from imutils import jimshow_channel as show_channel\n",
    "\n",
    "#plotting\n",
    "import matplotlib.pyplot as plt"
   ]
  },
  {
   "cell_type": "markdown",
   "metadata": {},
   "source": [
    "Then I create the path way to the photo I have coosen to use as the photo I am going to campare all the other photos to."
   ]
  },
  {
   "cell_type": "code",
   "execution_count": 3,
   "metadata": {},
   "outputs": [],
   "source": [
    "image = os.path.join(\"..\", \"in\", \"flowers\", \"image_0175.jpg\")"
   ]
  },
  {
   "cell_type": "markdown",
   "metadata": {},
   "source": [
    "Then I load that image."
   ]
  },
  {
   "cell_type": "code",
   "execution_count": 4,
   "metadata": {},
   "outputs": [],
   "source": [
    "main_image = cv2.imread(image)"
   ]
  },
  {
   "cell_type": "markdown",
   "metadata": {},
   "source": [
    "Then I create a histogram and normalize it for my main photo"
   ]
  },
  {
   "cell_type": "code",
   "execution_count": 5,
   "metadata": {},
   "outputs": [],
   "source": [
    "main_hist = cv2.calcHist([main_image], [0,1,2], None, [256,256,256], [0,256, 0,256, 0,256])\n",
    "main_norm_hist = cv2.normalize(main_hist, main_hist, 0, 1.0, cv2.NORM_MINMAX)"
   ]
  },
  {
   "cell_type": "code",
   "execution_count": 11,
   "metadata": {},
   "outputs": [],
   "source": [
    "#I then create the pathway to the folder with all the flower photos\n",
    "data_dir = os.path.join(\"..\", \"in\", \"flowers\")\n",
    "sorted_dir = sorted(os.listdir(data_dir))\n",
    "\n",
    "#I create a list, that I will add my results to at a later time in the code\n",
    "results_list = []\n",
    "\n",
    "#Then I create a for loop to treat each individual flower image in the data directory\n",
    "for file_name in sorted_dir:\n",
    "    #I create a filepath to load the individual photos\n",
    "    file_path = data_dir + \"/\" + file_name\n",
    "    #and load them\n",
    "    ref_image = cv2.imread(file_path)\n",
    "    #then I create a histogram and normalize it for each photo\n",
    "    ref_hist = cv2.calcHist([ref_image], [0,1,2], None, [256,256,256], [0,256, 0,256, 0,256])\n",
    "    ref_norm_hist = cv2.normalize(ref_hist, ref_hist, 0, 1.0, cv2.NORM_MINMAX)\n",
    "    #I then compare the normalized histogram for every picture, with the one I created for my main photo\n",
    "    distance = round(cv2.compareHist(main_norm_hist, ref_norm_hist, cv2.HISTCMP_CHISQR), 2)\n",
    "    #I then save the results to my created list\n",
    "    results_list.append((file_name, distance))\n",
    "    #I then make that into a dataframe\n",
    "    df = pd.DataFrame(results_list, \n",
    "                         columns=[\"file_name\",\"Distance\"],)\n",
    "    #I then sort that dataframe by the values in my \"Distance\" column, starting with the lowest at the top \n",
    "    df_sorted = df.sort_values(by='Distance', ascending=True)\n",
    "    #I then cut the dataframe. so I only have the topo six results, since the top result is just the same photo as my main photo \n",
    "    df_top = df_sorted.head(6)\n",
    "\n",
    "#Creating the path to where I want to save my results\n",
    "outpath = os.path.join(\"..\", \"out\", \"results_list_top.csv\")\n",
    "#Saving the dataframe as a CSV file\n",
    "df_top.to_csv(outpath, index=False)\n",
    "\n"
   ]
  },
  {
   "cell_type": "code",
   "execution_count": 15,
   "metadata": {},
   "outputs": [
    {
     "data": {
      "text/html": [
       "<div>\n",
       "<style scoped>\n",
       "    .dataframe tbody tr th:only-of-type {\n",
       "        vertical-align: middle;\n",
       "    }\n",
       "\n",
       "    .dataframe tbody tr th {\n",
       "        vertical-align: top;\n",
       "    }\n",
       "\n",
       "    .dataframe thead th {\n",
       "        text-align: right;\n",
       "    }\n",
       "</style>\n",
       "<table border=\"1\" class=\"dataframe\">\n",
       "  <thead>\n",
       "    <tr style=\"text-align: right;\">\n",
       "      <th></th>\n",
       "      <th>file_name</th>\n",
       "      <th>Distance</th>\n",
       "    </tr>\n",
       "  </thead>\n",
       "  <tbody>\n",
       "    <tr>\n",
       "      <th>174</th>\n",
       "      <td>image_0175.jpg</td>\n",
       "      <td>0.00</td>\n",
       "    </tr>\n",
       "    <tr>\n",
       "      <th>244</th>\n",
       "      <td>image_0245.jpg</td>\n",
       "      <td>69.19</td>\n",
       "    </tr>\n",
       "    <tr>\n",
       "      <th>1098</th>\n",
       "      <td>image_1099.jpg</td>\n",
       "      <td>69.70</td>\n",
       "    </tr>\n",
       "    <tr>\n",
       "      <th>723</th>\n",
       "      <td>image_0724.jpg</td>\n",
       "      <td>70.13</td>\n",
       "    </tr>\n",
       "    <tr>\n",
       "      <th>1307</th>\n",
       "      <td>image_1308.jpg</td>\n",
       "      <td>70.30</td>\n",
       "    </tr>\n",
       "    <tr>\n",
       "      <th>...</th>\n",
       "      <td>...</td>\n",
       "      <td>...</td>\n",
       "    </tr>\n",
       "    <tr>\n",
       "      <th>558</th>\n",
       "      <td>image_0559.jpg</td>\n",
       "      <td>1353316.53</td>\n",
       "    </tr>\n",
       "    <tr>\n",
       "      <th>283</th>\n",
       "      <td>image_0284.jpg</td>\n",
       "      <td>1381747.88</td>\n",
       "    </tr>\n",
       "    <tr>\n",
       "      <th>289</th>\n",
       "      <td>image_0290.jpg</td>\n",
       "      <td>1463395.96</td>\n",
       "    </tr>\n",
       "    <tr>\n",
       "      <th>537</th>\n",
       "      <td>image_0538.jpg</td>\n",
       "      <td>1699629.68</td>\n",
       "    </tr>\n",
       "    <tr>\n",
       "      <th>288</th>\n",
       "      <td>image_0289.jpg</td>\n",
       "      <td>1832079.10</td>\n",
       "    </tr>\n",
       "  </tbody>\n",
       "</table>\n",
       "<p>1360 rows × 2 columns</p>\n",
       "</div>"
      ],
      "text/plain": [
       "           file_name    Distance\n",
       "174   image_0175.jpg        0.00\n",
       "244   image_0245.jpg       69.19\n",
       "1098  image_1099.jpg       69.70\n",
       "723   image_0724.jpg       70.13\n",
       "1307  image_1308.jpg       70.30\n",
       "...              ...         ...\n",
       "558   image_0559.jpg  1353316.53\n",
       "283   image_0284.jpg  1381747.88\n",
       "289   image_0290.jpg  1463395.96\n",
       "537   image_0538.jpg  1699629.68\n",
       "288   image_0289.jpg  1832079.10\n",
       "\n",
       "[1360 rows x 2 columns]"
      ]
     },
     "execution_count": 15,
     "metadata": {},
     "output_type": "execute_result"
    }
   ],
   "source": [
    "df_sorted"
   ]
  },
  {
   "cell_type": "code",
   "execution_count": 9,
   "metadata": {},
   "outputs": [
    {
     "data": {
      "text/html": [
       "<div>\n",
       "<style scoped>\n",
       "    .dataframe tbody tr th:only-of-type {\n",
       "        vertical-align: middle;\n",
       "    }\n",
       "\n",
       "    .dataframe tbody tr th {\n",
       "        vertical-align: top;\n",
       "    }\n",
       "\n",
       "    .dataframe thead th {\n",
       "        text-align: right;\n",
       "    }\n",
       "</style>\n",
       "<table border=\"1\" class=\"dataframe\">\n",
       "  <thead>\n",
       "    <tr style=\"text-align: right;\">\n",
       "      <th></th>\n",
       "      <th>file_name</th>\n",
       "      <th>Distance</th>\n",
       "    </tr>\n",
       "  </thead>\n",
       "  <tbody>\n",
       "    <tr>\n",
       "      <th>174</th>\n",
       "      <td>image_0175.jpg</td>\n",
       "      <td>0.00</td>\n",
       "    </tr>\n",
       "    <tr>\n",
       "      <th>244</th>\n",
       "      <td>image_0245.jpg</td>\n",
       "      <td>69.19</td>\n",
       "    </tr>\n",
       "    <tr>\n",
       "      <th>1098</th>\n",
       "      <td>image_1099.jpg</td>\n",
       "      <td>69.70</td>\n",
       "    </tr>\n",
       "    <tr>\n",
       "      <th>723</th>\n",
       "      <td>image_0724.jpg</td>\n",
       "      <td>70.13</td>\n",
       "    </tr>\n",
       "    <tr>\n",
       "      <th>1307</th>\n",
       "      <td>image_1308.jpg</td>\n",
       "      <td>70.30</td>\n",
       "    </tr>\n",
       "  </tbody>\n",
       "</table>\n",
       "</div>"
      ],
      "text/plain": [
       "           file_name  Distance\n",
       "174   image_0175.jpg      0.00\n",
       "244   image_0245.jpg     69.19\n",
       "1098  image_1099.jpg     69.70\n",
       "723   image_0724.jpg     70.13\n",
       "1307  image_1308.jpg     70.30"
      ]
     },
     "execution_count": 9,
     "metadata": {},
     "output_type": "execute_result"
    }
   ],
   "source": [
    "df_top"
   ]
  },
  {
   "cell_type": "markdown",
   "metadata": {},
   "source": []
  }
 ],
 "metadata": {
  "kernelspec": {
   "display_name": "Python 3",
   "language": "python",
   "name": "python3"
  },
  "language_info": {
   "codemirror_mode": {
    "name": "ipython",
    "version": 3
   },
   "file_extension": ".py",
   "mimetype": "text/x-python",
   "name": "python",
   "nbconvert_exporter": "python",
   "pygments_lexer": "ipython3",
   "version": "3.10.12"
  }
 },
 "nbformat": 4,
 "nbformat_minor": 2
}
